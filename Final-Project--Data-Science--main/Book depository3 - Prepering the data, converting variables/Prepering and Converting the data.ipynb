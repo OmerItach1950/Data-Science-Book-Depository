{
 "cells": [
  {
   "cell_type": "code",
   "execution_count": 1,
   "id": "923b2626",
   "metadata": {},
   "outputs": [],
   "source": [
    "import pandas as pd\n",
    "import typing"
   ]
  },
  {
   "cell_type": "code",
   "execution_count": 2,
   "id": "7bfaf393",
   "metadata": {},
   "outputs": [],
   "source": [
    "def load_csv(path: str) -> pd:\n",
    "    return pd.read_csv(path).iloc[:,1:]"
   ]
  },
  {
   "cell_type": "code",
   "execution_count": 3,
   "id": "daeb664c",
   "metadata": {},
   "outputs": [],
   "source": [
    "def authors_to_numeric(df: pd) -> dict:\n",
    "    author_list = (df['author'].unique())\n",
    "    replace_map = dict(zip(author_list, range(1, len(author_list) + 1)))\n",
    "    df.replace(replace_map, inplace=True)\n",
    "    df['author'] = df['author'].astype('category')\n",
    "    return replace_map\n",
    "    "
   ]
  },
  {
   "cell_type": "code",
   "execution_count": 4,
   "id": "32af45ff",
   "metadata": {},
   "outputs": [],
   "source": [
    "def update_column_date_published(df: pd):\n",
    "    season_dict = {\n",
    "        1: 'Winter',\n",
    "        2: 'Winter',\n",
    "        3: 'Spring',\n",
    "        4: 'Spring',\n",
    "        5: 'Spring',\n",
    "        6: 'Summer',\n",
    "        7: 'Summer',\n",
    "        8: 'Summer',\n",
    "        9: 'Autumn',\n",
    "        10: 'Autumn',\n",
    "        11: 'Autumn',\n",
    "        12: 'Winter'\n",
    "    }\n",
    "    df['date-published']=pd.to_datetime(df['date-published'])\n",
    "    list_year=[]\n",
    "    list_season=[]\n",
    "    for row in df['date-published']:\n",
    "        list_year.append(row.year)\n",
    "        list_season.append(season_dict[row.month])\n",
    "    df['year-published']=list_year\n",
    "    df['season-published']=list_season\n",
    "    season_to_numeric(df)\n",
    "    \n",
    "    \n",
    "def season_to_numeric(df: pd):\n",
    "    replace_map = {\n",
    "        'Summer': 1,\n",
    "        'Winter': 2,\n",
    "        'Autumn': 3,\n",
    "        'Spring': 4\n",
    "    }\n",
    "    df.replace(replace_map,inplace=True)\n",
    "    df['season-published'] = df['season-published'].astype('category')\n"
   ]
  },
  {
   "cell_type": "code",
   "execution_count": 12,
   "id": "73c643db",
   "metadata": {},
   "outputs": [],
   "source": [
    "def backtype_to_numeric(df: pd):\n",
    "    backtype_list = (df['back-type'].unique())\n",
    "    replace_map = dict(zip(backtype_list, range(1, len(backtype_list) + 1)))\n",
    "    df.replace(replace_map, inplace=True)\n",
    "    df['back-type'] = df['back-type'].astype('category')\n",
    "    return replace_map"
   ]
  },
  {
   "cell_type": "code",
   "execution_count": 13,
   "id": "4f896728",
   "metadata": {},
   "outputs": [],
   "source": [
    "def deleting_datepublished(df: pd):\n",
    "    return df.drop('date-published', axis=1)"
   ]
  },
  {
   "cell_type": "code",
   "execution_count": 22,
   "id": "088a6614",
   "metadata": {},
   "outputs": [],
   "source": [
    "def converting_data(df: pd):\n",
    "    df['weight'] = df['weight'].astype('category')\n",
    "    df['height'] = df[''].astype('category')\n",
    "    df[''] = df[''].astype('category')\n",
    "    df[''] = df[''].astype('category')"
   ]
  },
  {
   "cell_type": "code",
   "execution_count": 15,
   "id": "bd3ea6aa",
   "metadata": {},
   "outputs": [],
   "source": [
    "path = 'cleaned-data1.csv'\n",
    "df = load_csv(path)"
   ]
  },
  {
   "cell_type": "code",
   "execution_count": 16,
   "id": "5c45fbe2",
   "metadata": {},
   "outputs": [],
   "source": [
    "authors_dict = authors_to_numeric(df)"
   ]
  },
  {
   "cell_type": "code",
   "execution_count": 17,
   "id": "7153b3ad",
   "metadata": {},
   "outputs": [],
   "source": [
    "update_column_date_published(df)"
   ]
  },
  {
   "cell_type": "code",
   "execution_count": 18,
   "id": "2614c4cf",
   "metadata": {},
   "outputs": [],
   "source": [
    "backtype_dict = backtype_to_numeric(df)"
   ]
  },
  {
   "cell_type": "code",
   "execution_count": 19,
   "id": "b0357218",
   "metadata": {},
   "outputs": [],
   "source": [
    "df = deleting_datepublished(df)"
   ]
  },
  {
   "cell_type": "code",
   "execution_count": null,
   "id": "da57e830",
   "metadata": {},
   "outputs": [],
   "source": []
  },
  {
   "cell_type": "code",
   "execution_count": 21,
   "id": "484a158c",
   "metadata": {},
   "outputs": [],
   "source": [
    "df.to_csv('converted_data.csv')"
   ]
  },
  {
   "cell_type": "code",
   "execution_count": 79,
   "id": "8f2f435e",
   "metadata": {},
   "outputs": [],
   "source": [
    "authors_df = pd.DataFrame({'Author': authors_dict.keys(), 'ID': authors_dict.values()})"
   ]
  },
  {
   "cell_type": "code",
   "execution_count": 80,
   "id": "83be675c",
   "metadata": {},
   "outputs": [],
   "source": [
    "backtype_df = pd.DataFrame({'Back Type': backtype_dict.keys(), 'ID': backtype_dict.values()})"
   ]
  },
  {
   "cell_type": "code",
   "execution_count": 81,
   "id": "5adedcab",
   "metadata": {},
   "outputs": [],
   "source": [
    "authors_df.to_csv('authors.csv')\n",
    "backtype_df.to_csv('backtype.csv')"
   ]
  },
  {
   "cell_type": "code",
   "execution_count": 14,
   "id": "22822254",
   "metadata": {},
   "outputs": [
    {
     "data": {
      "text/plain": [
       "Index(['pages-count', 'bestsellers-rank', 'rating', 'rating-count', 'author',\n",
       "       'back-type', 'price-ILS', 'width', 'height', 'thickness', 'weight',\n",
       "       'Contemporary Fiction', 'Children's Fiction',\n",
       "       'Children's General Story Books', 'Adventure Books for Kids',\n",
       "       'Fantasy Books', 'Fantasy', 'Classic Books & Novels',\n",
       "       'Fantasy Books for Kids', 'Animal Stories', 'Sci Fi Books for Kids',\n",
       "       'Personal Development', 'Funny Books for Kids', 'Popular Psychology',\n",
       "       'Family', 'Mind, Body, Spirit: Thought & Practice', 'Science Fiction',\n",
       "       'Activity Books', 'Picture Books',\n",
       "       'Assertiveness, Motivation & Self-esteem', 'Classic Books for Children',\n",
       "       'Crime', 'Crime Fiction', 'Historical Fiction', 'Graphic Novels: Manga',\n",
       "       'Romance Books', 'Romance', 'Storybooks',\n",
       "       'Advice On Careers & Achieving Success', 'Memoirs', 'Thriller Books',\n",
       "       'Thrillers', 'Early Learning', 'Romance Books for Teenagers',\n",
       "       'Adventure Books', 'Biography: General', 'Funny Books & Stories',\n",
       "       'Psychology', 'Family & Relationships', 'Adult & Contemporary Romance',\n",
       "       'Mind, Body & Spirit', 'Characters', 'Advice On Parenting',\n",
       "       'Health Books', 'Business & Management',\n",
       "       'Graphic Novels, Anime & Manga', 'General Cookery', 'Baby Books',\n",
       "       'Popular Medicine & Health', 'Management: Leadership & Motivation',\n",
       "       'Family Issues', 'Traditional',\n",
       "       'Mind, Body, Spirit: Meditation & Visualisation', 'year-published',\n",
       "       'season-published'],\n",
       "      dtype='object')"
      ]
     },
     "execution_count": 14,
     "metadata": {},
     "output_type": "execute_result"
    }
   ],
   "source": [
    "df.columns()"
   ]
  },
  {
   "cell_type": "code",
   "execution_count": null,
   "id": "528999dc",
   "metadata": {},
   "outputs": [],
   "source": []
  }
 ],
 "metadata": {
  "kernelspec": {
   "display_name": "Python 3 (ipykernel)",
   "language": "python",
   "name": "python3"
  },
  "language_info": {
   "codemirror_mode": {
    "name": "ipython",
    "version": 3
   },
   "file_extension": ".py",
   "mimetype": "text/x-python",
   "name": "python",
   "nbconvert_exporter": "python",
   "pygments_lexer": "ipython3",
   "version": "3.9.6"
  }
 },
 "nbformat": 4,
 "nbformat_minor": 5
}
