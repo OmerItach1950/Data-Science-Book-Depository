{
 "cells": [
  {
   "cell_type": "markdown",
   "id": "00246bdf",
   "metadata": {},
   "source": [
    "# Prediction\n"
   ]
  },
  {
   "cell_type": "code",
   "execution_count": 1,
   "id": "337ac667",
   "metadata": {},
   "outputs": [],
   "source": [
    "import pandas as pd\n",
    "import numpy as np\n",
    "import matplotlib as mpl\n",
    "import matplotlib.pyplot as plt\n",
    "import seaborn as sns\n",
    "from collections import Counter\n",
    "\n",
    "import sklearn\n",
    "from sklearn import linear_model, metrics, preprocessing\n",
    "from sklearn.preprocessing import StandardScaler, MinMaxScaler\n",
    "from sklearn.linear_model import LogisticRegression, LinearRegression\n",
    "from sklearn.metrics import r2_score, f1_score\n",
    "from sklearn.model_selection import train_test_split\n",
    "\n",
    "\n",
    "\n",
    "\n",
    "\n",
    "\n",
    "\n",
    "#and visualization setup\n",
    "import matplotlib.pyplot as plt\n",
    "%matplotlib inline  \n",
    "plt.rcParams['figure.figsize'] = (10, 6)\n",
    "\n",
    "from mpl_toolkits.mplot3d import Axes3D\n",
    "from matplotlib import cm"
   ]
  },
  {
   "cell_type": "code",
   "execution_count": 2,
   "id": "7f4c6234",
   "metadata": {},
   "outputs": [],
   "source": [
    "def load_csv(path: str) -> pd.DataFrame:\n",
    "    return pd.read_csv(path).iloc[:,1:]\n"
   ]
  },
  {
   "cell_type": "code",
   "execution_count": 3,
   "id": "70c6b96c",
   "metadata": {},
   "outputs": [],
   "source": [
    "path=\"converted_data.csv\"\n",
    "df=load_csv(path)"
   ]
  },
  {
   "cell_type": "code",
   "execution_count": 6,
   "id": "2c408296",
   "metadata": {
    "scrolled": false
   },
   "outputs": [
    {
     "data": {
      "image/png": "[encoded data removed]",
      "text/plain": [
       "<Figure size 720x432 with 1 Axes>"
      ]
     },
     "metadata": {
      "needs_background": "light"
     },
     "output_type": "display_data"
    }
   ],
   "source": [
    "plt.scatter(x=df['weight'],y=df['price-ILS'],c='r',marker='s',label='price')\n",
    "\n",
    "\n",
    "plt.legend(numpoints=1,loc=4)\n",
    "\n",
    "plt.ylabel('PRICE')\n",
    "plt.xlabel('WEIGHT')\n",
    "plt.show()"
   ]
  },
  {
   "cell_type": "code",
   "execution_count": 7,
   "id": "75365b48",
   "metadata": {},
   "outputs": [
    {
     "name": "stdout",
     "output_type": "stream",
     "text": [
      "b1: [[0.08140933]]\n",
      "b0: [31.71508186]\n"
     ]
    }
   ],
   "source": [
    "m=linear_model.LinearRegression().fit(df.iloc[:,11:12],df.iloc[:,7:8])\n",
    "print(\"b1:\",m.coef_)\n",
    "print(\"b0:\",m.intercept_)"
   ]
  },
  {
   "cell_type": "code",
   "execution_count": 8,
   "id": "354417e1",
   "metadata": {},
   "outputs": [],
   "source": [
    "# the intercept of the line is b_0=31.715 this means that for the minimal weight \n",
    "# for the book the price will be 31 shekels\n",
    "\n",
    "\n",
    "#the slope of the line is b_1=0.081 this means that for each gram the price increase by 8%\n"
   ]
  },
  {
   "cell_type": "code",
   "execution_count": 10,
   "id": "b253d456",
   "metadata": {},
   "outputs": [
    {
     "data": {
      "text/plain": [
       "0.4623814845847677"
      ]
     },
     "execution_count": 10,
     "metadata": {},
     "output_type": "execute_result"
    }
   ],
   "source": [
    "from sklearn.metrics import r2_score\n",
    "\n",
    "r2_score(df['price-ILS'].tolist(),m.predict(df.iloc[:,11:12]).flatten())\n",
    "#the r squared is almost 0.5 "
   ]
  },
  {
   "cell_type": "code",
   "execution_count": 11,
   "id": "4a679033",
   "metadata": {},
   "outputs": [
    {
     "data": {
      "text/plain": [
       "array([[39.53037784]])"
      ]
     },
     "execution_count": 11,
     "metadata": {},
     "output_type": "execute_result"
    }
   ],
   "source": [
    "res=m.coef_*96+m.intercept_\n",
    "res"
   ]
  },
  {
   "cell_type": "code",
   "execution_count": 12,
   "id": "7860246c",
   "metadata": {},
   "outputs": [
    {
     "data": {
      "text/plain": [
       "38.25066666666667"
      ]
     },
     "execution_count": 12,
     "metadata": {},
     "output_type": "execute_result"
    }
   ],
   "source": [
    "#example from the dataset\n",
    "df[(df['weight']>95 )& (df['weight']<99)]['price-ILS'].mean()\n",
    "#we can see that the differnce bewtween the predtion to the actual price is very small."
   ]
  },
  {
   "cell_type": "markdown",
   "id": "cb56f5d1",
   "metadata": {},
   "source": [
    "# Multiple Linear Regression"
   ]
  },
  {
   "cell_type": "code",
   "execution_count": 23,
   "id": "20a6592d",
   "metadata": {},
   "outputs": [],
   "source": [
    "def prepare_X_y(df,target):\n",
    "    #moving the target to the end of the dataframe\n",
    "    columns_list=list(df.columns)\n",
    "    columns_list.remove(target)\n",
    "    columns_list.append(target)\n",
    "    df_for_regression=df[columns_list]\n",
    "    \n",
    "    #removing unnecessary columns \n",
    "    df_for_regression=df_for_regression.drop(['title'],axis=1)\n",
    "    X=df_for_regression.iloc[:,:-1]\n",
    "    y=df_for_regression.iloc[:,-1]\n",
    "    return X,y,df_for_regression"
   ]
  },
  {
   "cell_type": "code",
   "execution_count": 38,
   "id": "b342c0aa",
   "metadata": {},
   "outputs": [],
   "source": [
    "def print_coefficient(df_reg: pd):\n",
    "    for k,v in sorted(dict(zip(df_reg.columns,(reg.coef_))).items(), key=lambda x:x[1],reverse=True):\n",
    "        print(k,v)"
   ]
  },
  {
   "cell_type": "code",
   "execution_count": 39,
   "id": "52e92e6d",
   "metadata": {},
   "outputs": [],
   "source": [
    "X,y,df_for_regression=prepare_X_y(df,'pages-count')\n",
    "#spliting the data \n",
    "Xtrain,Xtest,Ytrain,Ytest=train_test_split(X,y,test_size=0.2)\n"
   ]
  },
  {
   "cell_type": "code",
   "execution_count": 40,
   "id": "ebbba8d4",
   "metadata": {},
   "outputs": [],
   "source": [
    "reg=LinearRegression(fit_intercept=False)\n",
    "reg.fit(Xtrain,Ytrain)\n",
    "y_pred=reg.predict(Xtest)"
   ]
  },
  {
   "cell_type": "code",
   "execution_count": 41,
   "id": "89588248",
   "metadata": {
    "scrolled": true
   },
   "outputs": [
    {
     "name": "stdout",
     "output_type": "stream",
     "text": [
      "r^2: 0.6769626486043068\n"
     ]
    }
   ],
   "source": [
    "print(f\"r^2: {metrics.r2_score(Ytest,y_pred)}\")"
   ]
  },
  {
   "cell_type": "code",
   "execution_count": 42,
   "id": "9403473c",
   "metadata": {},
   "outputs": [
    {
     "name": "stdout",
     "output_type": "stream",
     "text": [
      "Historical Fiction 60.89145659946152\n",
      "Romance Books for Teenagers 41.804624768084814\n",
      "Fantasy 30.917922544134008\n",
      "Fantasy Books 30.91792254413309\n",
      "Memoirs 23.4782981036572\n",
      "Adventure Books 20.702307090782654\n",
      "Adult & Contemporary Romance 20.08427990560717\n",
      "Adventure Books for Kids 17.58557736040975\n",
      "Thriller Books 17.57267490814682\n",
      "Thrillers 17.572674908145412\n",
      "Management: Leadership & Motivation 13.807028315313396\n",
      "Science Fiction 12.585035386960858\n",
      "Family Issues 12.523137696274183\n",
      "Classic Books & Novels 11.664788767507034\n",
      "Business & Management 11.192309458439588\n",
      "Romance 10.485718383925125\n",
      "Romance Books 10.485718383924473\n",
      "Contemporary Fiction 10.280286627062804\n",
      "Popular Psychology 9.943155757966863\n",
      "Psychology 8.838292568876787\n",
      "Fantasy Books for Kids 7.4355266124153445\n",
      "rating 7.393205342846249\n",
      "Sci Fi Books for Kids 7.156642448559323\n",
      "Characters 7.1563878475828275\n",
      "Crime Fiction 5.696797627785338\n",
      "Crime 5.696797627783244\n",
      "Traditional 3.872259004888946\n",
      "Children's General Story Books 3.7887275029245444\n",
      "thickness 3.0636303727956236\n",
      "Popular Medicine & Health 2.3884008172037996\n",
      "weight 0.6954203946180955\n",
      "year-published 0.3655536397311394\n",
      "bestsellers-rank 0.00022934178646875797\n",
      "rating-count 1.665495815705853e-07\n",
      "author -0.00977275713076975\n",
      "price-ILS -0.4851553107161797\n",
      "height -1.141617848950709\n",
      "Biography: General -1.2246342199161102\n",
      "width -2.1660236326758877\n",
      "season-published -3.2031038443207756\n",
      "Advice On Careers & Achieving Success -4.238065550457627\n",
      "Mind, Body, Spirit: Meditation & Visualisation -4.921636334276435\n",
      "Assertiveness, Motivation & Self-esteem -5.048445159866983\n",
      "Advice On Parenting -6.26459128319898\n",
      "Classic Books for Children -6.6244900111375244\n",
      "Family & Relationships -6.715181527169706\n",
      "Personal Development -9.053687147494841\n",
      "Family -9.061870302225223\n",
      "Mind, Body & Spirit -11.098043919138025\n",
      "Children's Fiction -14.114492165030676\n",
      "Baby Books -14.693963146002972\n",
      "Funny Books & Stories -18.27399969160031\n",
      "Animal Stories -19.20695471872856\n",
      "Mind, Body, Spirit: Thought & Practice -19.946852220484875\n",
      "Health Books -21.79918258201968\n",
      "Activity Books -27.143074486323314\n",
      "Graphic Novels, Anime & Manga -36.932501018183984\n",
      "Funny Books for Kids -40.57922391972656\n",
      "Graphic Novels: Manga -59.47484155887724\n",
      "Storybooks -59.505597066327425\n",
      "Early Learning -59.557659498747384\n",
      "General Cookery -99.19462584188783\n",
      "Picture Books -111.39821151337023\n",
      "back-type -146.50262825288394\n"
     ]
    }
   ],
   "source": [
    "print_coefficient(df_for_regression)"
   ]
  },
  {
   "cell_type": "markdown",
   "id": "c4ffeac0",
   "metadata": {},
   "source": [
    "from the coefficients list above we can infer that there is a positive relation between \"Historical\n",
    "Fiction\" books and number of pages\n",
    "from the other side we can see that price has negligible relation,\n",
    "we can see all this clearly from the graph below-->"
   ]
  },
  {
   "cell_type": "code",
   "execution_count": 62,
   "id": "ecf4dac2",
   "metadata": {},
   "outputs": [
    {
     "data": {
      "image/png": "[encoded data removed]",
      "text/plain": [
       "<Figure size 720x432 with 1 Axes>"
      ]
     },
     "metadata": {
      "needs_background": "light"
     },
     "output_type": "display_data"
    }
   ],
   "source": [
    "plt.scatter(x=df['price-ILS'],y=df['pages-count'],c='r',marker='s',label='price')\n",
    "\n",
    "\n",
    "plt.legend(numpoints=1,loc=4)\n",
    "\n",
    "plt.ylabel('NUMBER OF PAGES')\n",
    "plt.xlabel('PRICE')\n",
    "plt.show()"
   ]
  },
  {
   "cell_type": "markdown",
   "id": "93119be2",
   "metadata": {},
   "source": [
    "# Now let's predict the price of the books!"
   ]
  },
  {
   "cell_type": "code",
   "execution_count": 58,
   "id": "0aa4ded3",
   "metadata": {},
   "outputs": [],
   "source": [
    "X,y,df_for_regression=prepare_X_y(df,'price-ILS')\n",
    "Xtrain,Xtest,Ytrain,Ytest=train_test_split(X,y,test_size=0.2)"
   ]
  },
  {
   "cell_type": "code",
   "execution_count": 59,
   "id": "927cd56e",
   "metadata": {},
   "outputs": [
    {
     "name": "stdout",
     "output_type": "stream",
     "text": [
      "r^2: 0.5678391417712376\n"
     ]
    }
   ],
   "source": [
    "reg=LinearRegression(fit_intercept=False)\n",
    "reg.fit(Xtrain,Ytrain)\n",
    "y_pred=reg.predict(Xtest)\n",
    "print(f\"r^2: {metrics.r2_score(Ytest,y_pred)}\")"
   ]
  },
  {
   "cell_type": "code",
   "execution_count": 60,
   "id": "ee849302",
   "metadata": {},
   "outputs": [
    {
     "name": "stdout",
     "output_type": "stream",
     "text": [
      "back-type 6.557587200100021\n",
      "Psychology 6.457015230785183\n",
      "Storybooks 4.841507681274781\n",
      "rating 4.707051667258279\n",
      "Business & Management 4.531130159119296\n",
      "Management: Leadership & Motivation 3.4534740981520624\n",
      "Graphic Novels: Manga 2.803476293573505\n",
      "Mind, Body, Spirit: Thought & Practice 2.3282923847499593\n",
      "Advice On Parenting 1.5240153049953848\n",
      "Family & Relationships 0.8125524879478812\n",
      "Memoirs 0.8065790992476198\n",
      "Popular Medicine & Health 0.7697862994868647\n",
      "Family Issues 0.48176640681879146\n",
      "season-published 0.32531264549961103\n",
      "Adventure Books 0.2656988069183246\n",
      "height 0.13119295224865435\n",
      "Personal Development 0.12728911761172812\n",
      "weight 0.06776253380398423\n",
      "thickness 0.014256096294962495\n",
      "width 0.005729177692140097\n",
      "author 0.0009267953350548148\n",
      "bestsellers-rank 1.2757810757294376e-05\n",
      "rating-count 1.3287510928876312e-06\n",
      "year-published -0.007273590025530907\n",
      "pages-count -0.00915810612916925\n",
      "Advice On Careers & Achieving Success -0.10877090225053143\n",
      "Thrillers -0.3909326964374862\n",
      "Thriller Books -0.39093269643748696\n",
      "Assertiveness, Motivation & Self-esteem -0.4994878854889637\n",
      "Romance Books -0.5365817644383477\n",
      "Romance -0.5365817644389701\n",
      "Animal Stories -0.537872753059017\n",
      "Sci Fi Books for Kids -0.6037343727574203\n",
      "Health Books -0.7022441527807206\n",
      "Adult & Contemporary Romance -1.1368783806686087\n",
      "Popular Psychology -1.1666615617652343\n",
      "Contemporary Fiction -1.1701476669595845\n",
      "Family -1.3531427417124429\n",
      "Traditional -1.4324369852777936\n",
      "Fantasy Books -1.5356986416543617\n",
      "Fantasy -1.535698641656062\n",
      "Children's General Story Books -1.8089356743165954\n",
      "Fantasy Books for Kids -2.1245381939845034\n",
      "Graphic Novels, Anime & Manga -2.31598691942302\n",
      "Mind, Body, Spirit: Meditation & Visualisation -2.3432401003841843\n",
      "Funny Books & Stories -2.354375134082006\n",
      "Classic Books for Children -2.479623443326142\n",
      "Science Fiction -2.5126644762233843\n",
      "Crime Fiction -2.738241160000425\n",
      "Crime -2.7382411600006007\n",
      "Children's Fiction -2.7981370388535605\n",
      "Mind, Body & Spirit -2.832793235875959\n",
      "Historical Fiction -3.126738468445561\n",
      "Adventure Books for Kids -3.1480467144874495\n",
      "Funny Books for Kids -3.9312100984994895\n",
      "Romance Books for Teenagers -4.12411664055635\n",
      "Biography: General -4.229554768794171\n",
      "Classic Books & Novels -4.609787003601857\n",
      "General Cookery -5.9634173176426195\n",
      "Activity Books -7.151882274945678\n",
      "Picture Books -8.100557222664287\n",
      "Early Learning -11.233856180084656\n",
      "Characters -14.423979503314651\n",
      "Baby Books -18.06776026213496\n"
     ]
    }
   ],
   "source": [
    "print_coefficient(df_for_regression)"
   ]
  },
  {
   "cell_type": "markdown",
   "id": "e5ffcd36",
   "metadata": {},
   "source": [
    "We already know that most of the books rating distribute between 3.5 - 4.5, so we consider only those books:"
   ]
  },
  {
   "cell_type": "code",
   "execution_count": 81,
   "id": "b90776e1",
   "metadata": {},
   "outputs": [
    {
     "data": {
      "image/png": "[encoded data removed]",
      "text/plain": [
       "<Figure size 720x432 with 1 Axes>"
      ]
     },
     "metadata": {
      "needs_background": "light"
     },
     "output_type": "display_data"
    }
   ],
   "source": [
    "plot_df = df[(df['rating'] >= 3.5) & (df['rating'] <= 4.5)]\n",
    "plt.scatter(x=plot_df['rating'],y=plot_df['price-ILS'],c='g',marker='s',label='price')\n",
    "\n",
    "\n",
    "plt.legend(numpoints=1,loc=4)\n",
    "\n",
    "plt.ylabel('price-ILS')\n",
    "plt.xlabel('rating')\n",
    "plt.show()"
   ]
  },
  {
   "cell_type": "code",
   "execution_count": null,
   "id": "671721d7",
   "metadata": {},
   "outputs": [],
   "source": []
  }
 ],
 "metadata": {
  "kernelspec": {
   "display_name": "Python 3 (ipykernel)",
   "language": "python",
   "name": "python3"
  },
  "language_info": {
   "codemirror_mode": {
    "name": "ipython",
    "version": 3
   },
   "file_extension": ".py",
   "mimetype": "text/x-python",
   "name": "python",
   "nbconvert_exporter": "python",
   "pygments_lexer": "ipython3",
   "version": "3.9.6"
  }
 },
 "nbformat": 4,
 "nbformat_minor": 5
}
